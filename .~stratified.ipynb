{
 "cells": [
  {
   "cell_type": "code",
   "execution_count": 1,
   "id": "a64714d4-c029-4ab1-b321-85df05f3bd3a",
   "metadata": {},
   "outputs": [
    {
     "name": "stderr",
     "output_type": "stream",
     "text": [
      "2024-09-01 19:35:50.088763: E external/local_xla/xla/stream_executor/cuda/cuda_fft.cc:485] Unable to register cuFFT factory: Attempting to register factory for plugin cuFFT when one has already been registered\n",
      "2024-09-01 19:35:50.103668: E external/local_xla/xla/stream_executor/cuda/cuda_dnn.cc:8454] Unable to register cuDNN factory: Attempting to register factory for plugin cuDNN when one has already been registered\n",
      "2024-09-01 19:35:50.108210: E external/local_xla/xla/stream_executor/cuda/cuda_blas.cc:1452] Unable to register cuBLAS factory: Attempting to register factory for plugin cuBLAS when one has already been registered\n",
      "2024-09-01 19:35:50.119805: I tensorflow/core/platform/cpu_feature_guard.cc:210] This TensorFlow binary is optimized to use available CPU instructions in performance-critical operations.\n",
      "To enable the following instructions: AVX2 FMA, in other operations, rebuild TensorFlow with the appropriate compiler flags.\n",
      "2024-09-01 19:35:51.125495: W tensorflow/compiler/tf2tensorrt/utils/py_utils.cc:38] TF-TRT Warning: Could not find TensorRT\n"
     ]
    }
   ],
   "source": [
    "\n",
    "import nlpaug.augmenter.sentence as nas\n",
    "import nlpaug.augmenter.word as naw\n",
    "\n"
   ]
  },
  {
   "cell_type": "markdown",
   "id": "b4440264-6173-4dce-976b-1c3f07bf1b64",
   "metadata": {},
   "source": [
    "# Data Processing\n"
   ]
  },
  {
   "cell_type": "code",
   "execution_count": 2,
   "id": "561c06c1-f408-4688-b575-12030c766ab6",
   "metadata": {},
   "outputs": [],
   "source": [
    "import pandas as pd \n",
    "import numpy as np \n",
    "import matplotlib.pyplot as plt\n",
    "train_data=pd.read_csv(\"Dataset/Dataset_train.tsv\",delimiter='\\t', names=['text','labels'])\n",
    "test_data=pd.read_csv(\"Dataset/Dataset_test.tsv\",delimiter='\\t', names=['text','labels'])\n",
    "val_data=pd.read_csv(\"Dataset/Dataset_dev.tsv\",delimiter='\\t', names=['text','labels'])"
   ]
  },
  {
   "cell_type": "code",
   "execution_count": 3,
   "id": "b80eca16-fc5f-4e20-936d-0e855759193f",
   "metadata": {},
   "outputs": [],
   "source": [
    "provided_data = pd.concat([train_data,test_data,val_data])\n"
   ]
  },
  {
   "cell_type": "code",
   "execution_count": 4,
   "id": "dfb76de3-6e53-4083-b47d-a4dfcb471c50",
   "metadata": {},
   "outputs": [
    {
     "data": {
      "text/html": [
       "<div>\n",
       "<style scoped>\n",
       "    .dataframe tbody tr th:only-of-type {\n",
       "        vertical-align: middle;\n",
       "    }\n",
       "\n",
       "    .dataframe tbody tr th {\n",
       "        vertical-align: top;\n",
       "    }\n",
       "\n",
       "    .dataframe thead th {\n",
       "        text-align: right;\n",
       "    }\n",
       "</style>\n",
       "<table border=\"1\" class=\"dataframe\">\n",
       "  <thead>\n",
       "    <tr style=\"text-align: right;\">\n",
       "      <th></th>\n",
       "      <th>text</th>\n",
       "      <th>labels</th>\n",
       "    </tr>\n",
       "  </thead>\n",
       "  <tbody>\n",
       "    <tr>\n",
       "      <th>0</th>\n",
       "      <td>text1</td>\n",
       "      <td>labels</td>\n",
       "    </tr>\n",
       "    <tr>\n",
       "      <th>1</th>\n",
       "      <td>creates a backdoor through which remote attack...</td>\n",
       "      <td>['T1005', 'T1005']</td>\n",
       "    </tr>\n",
       "    <tr>\n",
       "      <th>2</th>\n",
       "      <td>captures window titles.</td>\n",
       "      <td>['T1010', 'T1010']</td>\n",
       "    </tr>\n",
       "    <tr>\n",
       "      <th>3</th>\n",
       "      <td>hides any strings related to its own indicator...</td>\n",
       "      <td>['T1027', 'T1027']</td>\n",
       "    </tr>\n",
       "    <tr>\n",
       "      <th>4</th>\n",
       "      <td>creates a backdoor through which remote attack...</td>\n",
       "      <td>['T1059', 'T1059']</td>\n",
       "    </tr>\n",
       "    <tr>\n",
       "      <th>...</th>\n",
       "      <td>...</td>\n",
       "      <td>...</td>\n",
       "    </tr>\n",
       "    <tr>\n",
       "      <th>600</th>\n",
       "      <td>The threat actor can now combine the informati...</td>\n",
       "      <td>['T1016', 'T1110']</td>\n",
       "    </tr>\n",
       "    <tr>\n",
       "      <th>601</th>\n",
       "      <td>The Trojan then gets the hexadecimal values of...</td>\n",
       "      <td>['T1573', 'T1070.004', 'T1074', 'T1041', 'T104...</td>\n",
       "    </tr>\n",
       "    <tr>\n",
       "      <th>602</th>\n",
       "      <td>This IP has hosted other domains used by APT3 ...</td>\n",
       "      <td>['T1016', 'T1068']</td>\n",
       "    </tr>\n",
       "    <tr>\n",
       "      <th>603</th>\n",
       "      <td>We include a list of observed hardcoded ip C2 ...</td>\n",
       "      <td>['T1016', 'T1008']</td>\n",
       "    </tr>\n",
       "    <tr>\n",
       "      <th>604</th>\n",
       "      <td>When HawkEye is executed, in line 34, byte[] b...</td>\n",
       "      <td>['T1562.001', 'T1140']</td>\n",
       "    </tr>\n",
       "  </tbody>\n",
       "</table>\n",
       "<p>4800 rows × 2 columns</p>\n",
       "</div>"
      ],
      "text/plain": [
       "                                                  text  \\\n",
       "0                                                text1   \n",
       "1    creates a backdoor through which remote attack...   \n",
       "2                              captures window titles.   \n",
       "3    hides any strings related to its own indicator...   \n",
       "4    creates a backdoor through which remote attack...   \n",
       "..                                                 ...   \n",
       "600  The threat actor can now combine the informati...   \n",
       "601  The Trojan then gets the hexadecimal values of...   \n",
       "602  This IP has hosted other domains used by APT3 ...   \n",
       "603  We include a list of observed hardcoded ip C2 ...   \n",
       "604  When HawkEye is executed, in line 34, byte[] b...   \n",
       "\n",
       "                                                labels  \n",
       "0                                               labels  \n",
       "1                                   ['T1005', 'T1005']  \n",
       "2                                   ['T1010', 'T1010']  \n",
       "3                                   ['T1027', 'T1027']  \n",
       "4                                   ['T1059', 'T1059']  \n",
       "..                                                 ...  \n",
       "600                                 ['T1016', 'T1110']  \n",
       "601  ['T1573', 'T1070.004', 'T1074', 'T1041', 'T104...  \n",
       "602                                 ['T1016', 'T1068']  \n",
       "603                                 ['T1016', 'T1008']  \n",
       "604                             ['T1562.001', 'T1140']  \n",
       "\n",
       "[4800 rows x 2 columns]"
      ]
     },
     "execution_count": 4,
     "metadata": {},
     "output_type": "execute_result"
    }
   ],
   "source": [
    "provided_data"
   ]
  },
  {
   "cell_type": "code",
   "execution_count": 5,
   "id": "65cd74ff-2da5-435c-9c4d-b493685c80d7",
   "metadata": {},
   "outputs": [],
   "source": [
    "provided_data['labels'] = provided_data['labels'].apply(lambda x: x.replace(\" \", \"\").strip('[]').split(','))\n",
    "def strip_quotes(label_list):\n",
    "    return [label.strip(\"'\") for label in label_list]\n",
    "provided_data.labels=provided_data.labels.apply(strip_quotes)"
   ]
  },
  {
   "cell_type": "code",
   "execution_count": 6,
   "id": "71e174a2-a110-4884-98b0-50c2199a05ec",
   "metadata": {},
   "outputs": [],
   "source": [
    "provided_data=provided_data.drop(index=0)"
   ]
  },
  {
   "cell_type": "code",
   "execution_count": 7,
   "id": "288a2386-8cc3-4a94-b22c-4e1a24b978e7",
   "metadata": {},
   "outputs": [],
   "source": [
    "def unique_labels(labels):\n",
    "    unique = []\n",
    "    for y in labels:\n",
    "        for technique in y:\n",
    "            if technique.strip() not in unique:\n",
    "                unique.append(technique.strip())\n",
    "    return unique"
   ]
  },
  {
   "cell_type": "code",
   "execution_count": 8,
   "id": "f406e298-0bb3-4b8b-9caf-542e5e0ac7f2",
   "metadata": {},
   "outputs": [],
   "source": [
    "def plot_classes_sums(classes,color='blue'):\n",
    "    plt.figure(figsize=(40,6))\n",
    "    plt.subplot(1,2,2)\n",
    "    bars=classes.plot(kind='bar',color=color)\n",
    "    plt.xlabel(\"Technique ID\")\n",
    "    plt.ylabel('Count')\n",
    "    plt.grid(axis='y')\n",
    "    plt.xticks(rotation=90)\n",
    "    for p in bars.patches:\n",
    "        bars.annotate(str(p.get_height()), (p.get_x() + p.get_width() / 2., p.get_height()), ha='center', va='bottom')\n",
    "    plt.show()"
   ]
  },
  {
   "cell_type": "code",
   "execution_count": 9,
   "id": "e3260b24-8d78-4eb4-9b09-718e280f4807",
   "metadata": {},
   "outputs": [
    {
     "data": {
      "text/plain": [
       "193"
      ]
     },
     "execution_count": 9,
     "metadata": {},
     "output_type": "execute_result"
    }
   ],
   "source": [
    "UniqueLabels=unique_labels(provided_data.labels)\n",
    "len(UniqueLabels)"
   ]
  },
  {
   "cell_type": "code",
   "execution_count": null,
   "id": "25f87bb4-215f-4f94-98c8-a00f7347a62a",
   "metadata": {},
   "outputs": [],
   "source": []
  },
  {
   "cell_type": "code",
   "execution_count": 10,
   "id": "75604d87-e37e-4e8c-9327-dcfe1715e616",
   "metadata": {},
   "outputs": [
    {
     "name": "stderr",
     "output_type": "stream",
     "text": [
      "/tmp/ipykernel_53539/534826084.py:2: PerformanceWarning: DataFrame is highly fragmented.  This is usually the result of calling `frame.insert` many times, which has poor performance.  Consider joining all columns at once using pd.concat(axis=1) instead. To get a de-fragmented frame, use `newframe = frame.copy()`\n",
      "  provided_data[UniqueLabels]=ohe_matrix\n",
      "/tmp/ipykernel_53539/534826084.py:2: PerformanceWarning: DataFrame is highly fragmented.  This is usually the result of calling `frame.insert` many times, which has poor performance.  Consider joining all columns at once using pd.concat(axis=1) instead. To get a de-fragmented frame, use `newframe = frame.copy()`\n",
      "  provided_data[UniqueLabels]=ohe_matrix\n",
      "/tmp/ipykernel_53539/534826084.py:2: PerformanceWarning: DataFrame is highly fragmented.  This is usually the result of calling `frame.insert` many times, which has poor performance.  Consider joining all columns at once using pd.concat(axis=1) instead. To get a de-fragmented frame, use `newframe = frame.copy()`\n",
      "  provided_data[UniqueLabels]=ohe_matrix\n",
      "/tmp/ipykernel_53539/534826084.py:2: PerformanceWarning: DataFrame is highly fragmented.  This is usually the result of calling `frame.insert` many times, which has poor performance.  Consider joining all columns at once using pd.concat(axis=1) instead. To get a de-fragmented frame, use `newframe = frame.copy()`\n",
      "  provided_data[UniqueLabels]=ohe_matrix\n",
      "/tmp/ipykernel_53539/534826084.py:2: PerformanceWarning: DataFrame is highly fragmented.  This is usually the result of calling `frame.insert` many times, which has poor performance.  Consider joining all columns at once using pd.concat(axis=1) instead. To get a de-fragmented frame, use `newframe = frame.copy()`\n",
      "  provided_data[UniqueLabels]=ohe_matrix\n",
      "/tmp/ipykernel_53539/534826084.py:2: PerformanceWarning: DataFrame is highly fragmented.  This is usually the result of calling `frame.insert` many times, which has poor performance.  Consider joining all columns at once using pd.concat(axis=1) instead. To get a de-fragmented frame, use `newframe = frame.copy()`\n",
      "  provided_data[UniqueLabels]=ohe_matrix\n",
      "/tmp/ipykernel_53539/534826084.py:2: PerformanceWarning: DataFrame is highly fragmented.  This is usually the result of calling `frame.insert` many times, which has poor performance.  Consider joining all columns at once using pd.concat(axis=1) instead. To get a de-fragmented frame, use `newframe = frame.copy()`\n",
      "  provided_data[UniqueLabels]=ohe_matrix\n",
      "/tmp/ipykernel_53539/534826084.py:2: PerformanceWarning: DataFrame is highly fragmented.  This is usually the result of calling `frame.insert` many times, which has poor performance.  Consider joining all columns at once using pd.concat(axis=1) instead. To get a de-fragmented frame, use `newframe = frame.copy()`\n",
      "  provided_data[UniqueLabels]=ohe_matrix\n",
      "/tmp/ipykernel_53539/534826084.py:2: PerformanceWarning: DataFrame is highly fragmented.  This is usually the result of calling `frame.insert` many times, which has poor performance.  Consider joining all columns at once using pd.concat(axis=1) instead. To get a de-fragmented frame, use `newframe = frame.copy()`\n",
      "  provided_data[UniqueLabels]=ohe_matrix\n",
      "/tmp/ipykernel_53539/534826084.py:2: PerformanceWarning: DataFrame is highly fragmented.  This is usually the result of calling `frame.insert` many times, which has poor performance.  Consider joining all columns at once using pd.concat(axis=1) instead. To get a de-fragmented frame, use `newframe = frame.copy()`\n",
      "  provided_data[UniqueLabels]=ohe_matrix\n",
      "/tmp/ipykernel_53539/534826084.py:2: PerformanceWarning: DataFrame is highly fragmented.  This is usually the result of calling `frame.insert` many times, which has poor performance.  Consider joining all columns at once using pd.concat(axis=1) instead. To get a de-fragmented frame, use `newframe = frame.copy()`\n",
      "  provided_data[UniqueLabels]=ohe_matrix\n",
      "/tmp/ipykernel_53539/534826084.py:2: PerformanceWarning: DataFrame is highly fragmented.  This is usually the result of calling `frame.insert` many times, which has poor performance.  Consider joining all columns at once using pd.concat(axis=1) instead. To get a de-fragmented frame, use `newframe = frame.copy()`\n",
      "  provided_data[UniqueLabels]=ohe_matrix\n",
      "/tmp/ipykernel_53539/534826084.py:2: PerformanceWarning: DataFrame is highly fragmented.  This is usually the result of calling `frame.insert` many times, which has poor performance.  Consider joining all columns at once using pd.concat(axis=1) instead. To get a de-fragmented frame, use `newframe = frame.copy()`\n",
      "  provided_data[UniqueLabels]=ohe_matrix\n",
      "/tmp/ipykernel_53539/534826084.py:2: PerformanceWarning: DataFrame is highly fragmented.  This is usually the result of calling `frame.insert` many times, which has poor performance.  Consider joining all columns at once using pd.concat(axis=1) instead. To get a de-fragmented frame, use `newframe = frame.copy()`\n",
      "  provided_data[UniqueLabels]=ohe_matrix\n",
      "/tmp/ipykernel_53539/534826084.py:2: PerformanceWarning: DataFrame is highly fragmented.  This is usually the result of calling `frame.insert` many times, which has poor performance.  Consider joining all columns at once using pd.concat(axis=1) instead. To get a de-fragmented frame, use `newframe = frame.copy()`\n",
      "  provided_data[UniqueLabels]=ohe_matrix\n",
      "/tmp/ipykernel_53539/534826084.py:2: PerformanceWarning: DataFrame is highly fragmented.  This is usually the result of calling `frame.insert` many times, which has poor performance.  Consider joining all columns at once using pd.concat(axis=1) instead. To get a de-fragmented frame, use `newframe = frame.copy()`\n",
      "  provided_data[UniqueLabels]=ohe_matrix\n",
      "/tmp/ipykernel_53539/534826084.py:2: PerformanceWarning: DataFrame is highly fragmented.  This is usually the result of calling `frame.insert` many times, which has poor performance.  Consider joining all columns at once using pd.concat(axis=1) instead. To get a de-fragmented frame, use `newframe = frame.copy()`\n",
      "  provided_data[UniqueLabels]=ohe_matrix\n",
      "/tmp/ipykernel_53539/534826084.py:2: PerformanceWarning: DataFrame is highly fragmented.  This is usually the result of calling `frame.insert` many times, which has poor performance.  Consider joining all columns at once using pd.concat(axis=1) instead. To get a de-fragmented frame, use `newframe = frame.copy()`\n",
      "  provided_data[UniqueLabels]=ohe_matrix\n",
      "/tmp/ipykernel_53539/534826084.py:2: PerformanceWarning: DataFrame is highly fragmented.  This is usually the result of calling `frame.insert` many times, which has poor performance.  Consider joining all columns at once using pd.concat(axis=1) instead. To get a de-fragmented frame, use `newframe = frame.copy()`\n",
      "  provided_data[UniqueLabels]=ohe_matrix\n",
      "/tmp/ipykernel_53539/534826084.py:2: PerformanceWarning: DataFrame is highly fragmented.  This is usually the result of calling `frame.insert` many times, which has poor performance.  Consider joining all columns at once using pd.concat(axis=1) instead. To get a de-fragmented frame, use `newframe = frame.copy()`\n",
      "  provided_data[UniqueLabels]=ohe_matrix\n",
      "/tmp/ipykernel_53539/534826084.py:2: PerformanceWarning: DataFrame is highly fragmented.  This is usually the result of calling `frame.insert` many times, which has poor performance.  Consider joining all columns at once using pd.concat(axis=1) instead. To get a de-fragmented frame, use `newframe = frame.copy()`\n",
      "  provided_data[UniqueLabels]=ohe_matrix\n",
      "/tmp/ipykernel_53539/534826084.py:2: PerformanceWarning: DataFrame is highly fragmented.  This is usually the result of calling `frame.insert` many times, which has poor performance.  Consider joining all columns at once using pd.concat(axis=1) instead. To get a de-fragmented frame, use `newframe = frame.copy()`\n",
      "  provided_data[UniqueLabels]=ohe_matrix\n",
      "/tmp/ipykernel_53539/534826084.py:2: PerformanceWarning: DataFrame is highly fragmented.  This is usually the result of calling `frame.insert` many times, which has poor performance.  Consider joining all columns at once using pd.concat(axis=1) instead. To get a de-fragmented frame, use `newframe = frame.copy()`\n",
      "  provided_data[UniqueLabels]=ohe_matrix\n",
      "/tmp/ipykernel_53539/534826084.py:2: PerformanceWarning: DataFrame is highly fragmented.  This is usually the result of calling `frame.insert` many times, which has poor performance.  Consider joining all columns at once using pd.concat(axis=1) instead. To get a de-fragmented frame, use `newframe = frame.copy()`\n",
      "  provided_data[UniqueLabels]=ohe_matrix\n",
      "/tmp/ipykernel_53539/534826084.py:2: PerformanceWarning: DataFrame is highly fragmented.  This is usually the result of calling `frame.insert` many times, which has poor performance.  Consider joining all columns at once using pd.concat(axis=1) instead. To get a de-fragmented frame, use `newframe = frame.copy()`\n",
      "  provided_data[UniqueLabels]=ohe_matrix\n",
      "/tmp/ipykernel_53539/534826084.py:2: PerformanceWarning: DataFrame is highly fragmented.  This is usually the result of calling `frame.insert` many times, which has poor performance.  Consider joining all columns at once using pd.concat(axis=1) instead. To get a de-fragmented frame, use `newframe = frame.copy()`\n",
      "  provided_data[UniqueLabels]=ohe_matrix\n",
      "/tmp/ipykernel_53539/534826084.py:2: PerformanceWarning: DataFrame is highly fragmented.  This is usually the result of calling `frame.insert` many times, which has poor performance.  Consider joining all columns at once using pd.concat(axis=1) instead. To get a de-fragmented frame, use `newframe = frame.copy()`\n",
      "  provided_data[UniqueLabels]=ohe_matrix\n",
      "/tmp/ipykernel_53539/534826084.py:2: PerformanceWarning: DataFrame is highly fragmented.  This is usually the result of calling `frame.insert` many times, which has poor performance.  Consider joining all columns at once using pd.concat(axis=1) instead. To get a de-fragmented frame, use `newframe = frame.copy()`\n",
      "  provided_data[UniqueLabels]=ohe_matrix\n",
      "/tmp/ipykernel_53539/534826084.py:2: PerformanceWarning: DataFrame is highly fragmented.  This is usually the result of calling `frame.insert` many times, which has poor performance.  Consider joining all columns at once using pd.concat(axis=1) instead. To get a de-fragmented frame, use `newframe = frame.copy()`\n",
      "  provided_data[UniqueLabels]=ohe_matrix\n",
      "/tmp/ipykernel_53539/534826084.py:2: PerformanceWarning: DataFrame is highly fragmented.  This is usually the result of calling `frame.insert` many times, which has poor performance.  Consider joining all columns at once using pd.concat(axis=1) instead. To get a de-fragmented frame, use `newframe = frame.copy()`\n",
      "  provided_data[UniqueLabels]=ohe_matrix\n",
      "/tmp/ipykernel_53539/534826084.py:2: PerformanceWarning: DataFrame is highly fragmented.  This is usually the result of calling `frame.insert` many times, which has poor performance.  Consider joining all columns at once using pd.concat(axis=1) instead. To get a de-fragmented frame, use `newframe = frame.copy()`\n",
      "  provided_data[UniqueLabels]=ohe_matrix\n",
      "/tmp/ipykernel_53539/534826084.py:2: PerformanceWarning: DataFrame is highly fragmented.  This is usually the result of calling `frame.insert` many times, which has poor performance.  Consider joining all columns at once using pd.concat(axis=1) instead. To get a de-fragmented frame, use `newframe = frame.copy()`\n",
      "  provided_data[UniqueLabels]=ohe_matrix\n",
      "/tmp/ipykernel_53539/534826084.py:2: PerformanceWarning: DataFrame is highly fragmented.  This is usually the result of calling `frame.insert` many times, which has poor performance.  Consider joining all columns at once using pd.concat(axis=1) instead. To get a de-fragmented frame, use `newframe = frame.copy()`\n",
      "  provided_data[UniqueLabels]=ohe_matrix\n",
      "/tmp/ipykernel_53539/534826084.py:2: PerformanceWarning: DataFrame is highly fragmented.  This is usually the result of calling `frame.insert` many times, which has poor performance.  Consider joining all columns at once using pd.concat(axis=1) instead. To get a de-fragmented frame, use `newframe = frame.copy()`\n",
      "  provided_data[UniqueLabels]=ohe_matrix\n",
      "/tmp/ipykernel_53539/534826084.py:2: PerformanceWarning: DataFrame is highly fragmented.  This is usually the result of calling `frame.insert` many times, which has poor performance.  Consider joining all columns at once using pd.concat(axis=1) instead. To get a de-fragmented frame, use `newframe = frame.copy()`\n",
      "  provided_data[UniqueLabels]=ohe_matrix\n",
      "/tmp/ipykernel_53539/534826084.py:2: PerformanceWarning: DataFrame is highly fragmented.  This is usually the result of calling `frame.insert` many times, which has poor performance.  Consider joining all columns at once using pd.concat(axis=1) instead. To get a de-fragmented frame, use `newframe = frame.copy()`\n",
      "  provided_data[UniqueLabels]=ohe_matrix\n",
      "/tmp/ipykernel_53539/534826084.py:2: PerformanceWarning: DataFrame is highly fragmented.  This is usually the result of calling `frame.insert` many times, which has poor performance.  Consider joining all columns at once using pd.concat(axis=1) instead. To get a de-fragmented frame, use `newframe = frame.copy()`\n",
      "  provided_data[UniqueLabels]=ohe_matrix\n",
      "/tmp/ipykernel_53539/534826084.py:2: PerformanceWarning: DataFrame is highly fragmented.  This is usually the result of calling `frame.insert` many times, which has poor performance.  Consider joining all columns at once using pd.concat(axis=1) instead. To get a de-fragmented frame, use `newframe = frame.copy()`\n",
      "  provided_data[UniqueLabels]=ohe_matrix\n",
      "/tmp/ipykernel_53539/534826084.py:2: PerformanceWarning: DataFrame is highly fragmented.  This is usually the result of calling `frame.insert` many times, which has poor performance.  Consider joining all columns at once using pd.concat(axis=1) instead. To get a de-fragmente